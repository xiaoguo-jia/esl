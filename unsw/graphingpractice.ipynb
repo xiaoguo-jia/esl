{
 "cells": [
  {
   "cell_type": "code",
   "execution_count": 51,
   "metadata": {},
   "outputs": [],
   "source": [
    "import torch\n",
    "import torch.nn as nn\n",
    "import torch.nn.functional as F\n",
    "import torch.optim as optim\n",
    "\n",
    "from torch_geometric.nn import GCNConv\n",
    "from torch_geometric.data import Data\n",
    "import matplotlib.pyplot as plt\n",
    "from torch_geometric.utils import to_networkx\n",
    "import networkx as nx"
   ]
  },
  {
   "cell_type": "markdown",
   "metadata": {},
   "source": [
    "information\n",
    "data.x: Node feature matrix with shape [num_nodes, num_node_features]\n",
    "\n",
    "data.edge_index: Graph connectivity in COO format with shape [2, num_edges] and type torch.long\n",
    "\n",
    "data.edge_attr: Edge feature matrix with shape [num_edges, num_edge_features]\n",
    "\n",
    "data.y: Target to train against (may have arbitrary shape), e.g., node-level targets of shape [num_nodes, *] or graph-level targets of shape [1, *]\n",
    "\n",
    "data.pos: Node position matrix with shape [num_nodes, num_dimensions]"
   ]
  },
  {
   "cell_type": "code",
   "execution_count": 2,
   "metadata": {},
   "outputs": [
    {
     "name": "stdout",
     "output_type": "stream",
     "text": [
      "Data(x=[3, 1], edge_index=[2, 4])\n"
     ]
    }
   ],
   "source": [
    "edge_index = torch.tensor([[0, 1, 1, 2],\n",
    "                           [1, 0, 2, 1]], dtype=torch.long)\n",
    "x = torch.tensor([[-1], [0], [1]], dtype=torch.float)\n",
    "\n",
    "data = Data(x=x, edge_index=edge_index)\n",
    "\n",
    "print(data)"
   ]
  },
  {
   "cell_type": "code",
   "execution_count": 3,
   "metadata": {},
   "outputs": [
    {
     "data": {
      "image/png": "[encoded data removed]",
      "text/plain": [
       "<Figure size 500x500 with 1 Axes>"
      ]
     },
     "metadata": {},
     "output_type": "display_data"
    }
   ],
   "source": [
    "# print image of the graph\n",
    "plt.figure(figsize=(5, 5))\n",
    "nxg = to_networkx(data)\n",
    "pos = nx.spring_layout(nxg)\n",
    "nx.draw(nxg, pos, with_labels=True, node_color=[[.7, .7, .7]])\n",
    "plt.show()"
   ]
  },
  {
   "cell_type": "code",
   "execution_count": 4,
   "metadata": {},
   "outputs": [
    {
     "name": "stdout",
     "output_type": "stream",
     "text": [
      "tensor([[-1.],\n",
      "        [ 0.],\n",
      "        [ 1.]])\n"
     ]
    }
   ],
   "source": [
    "# print attributes of the nodes\n",
    "print(data.x)"
   ]
  },
  {
   "cell_type": "code",
   "execution_count": 7,
   "metadata": {},
   "outputs": [
    {
     "name": "stdout",
     "output_type": "stream",
     "text": [
      "tensor([[-1.,  4.],\n",
      "        [ 0.,  5.],\n",
      "        [ 1.,  6.]])\n"
     ]
    }
   ],
   "source": [
    "# set new attributes for the nodes\n",
    "data.x = torch.tensor([[-1, 4], [0, 5], [1, 6]], dtype=torch.float)\n",
    "print(data['x'])"
   ]
  },
  {
   "cell_type": "code",
   "execution_count": 6,
   "metadata": {},
   "outputs": [
    {
     "name": "stdout",
     "output_type": "stream",
     "text": [
      "['x', 'edge_index']\n"
     ]
    }
   ],
   "source": [
    "print(data.keys())"
   ]
  },
  {
   "cell_type": "markdown",
   "metadata": {},
   "source": [
    "testing with my dataset"
   ]
  },
  {
   "cell_type": "code",
   "execution_count": 21,
   "metadata": {},
   "outputs": [],
   "source": [
    "import pandas as pd\n",
    "import numpy as np"
   ]
  },
  {
   "cell_type": "code",
   "execution_count": 10,
   "metadata": {},
   "outputs": [
    {
     "name": "stdout",
     "output_type": "stream",
     "text": [
      "    id       dur  spkts  dpkts  sbytes  dbytes           rate  sttl  dttl  \\\n",
      "0    0  0.121478      6      4     258     172      74.087490   252   254   \n",
      "1    1  0.649902     14     38     734   42014      78.473372    62   252   \n",
      "2    2  1.623129      8     16     364   13186      14.170161    62   252   \n",
      "3    3  1.681642     12     12     628     770      13.677108    62   252   \n",
      "4    4  0.449454     10      6     534     268      33.373826   254   252   \n",
      "5    5  0.380537     10      6     534     268      39.417980   254   252   \n",
      "6    6  0.637109     10      8     534     354      26.683033   254   252   \n",
      "7    7  0.521584     10      8     534     354      32.593026   254   252   \n",
      "8    8  0.000007      2      0     200       0  142857.140900   254     0   \n",
      "9    9  0.258687     10      6     534     268      57.985135   254   252   \n",
      "10  10  0.304853     12      6    4142     268      55.764583   254   252   \n",
      "11  11  2.093085     62     28   56329    2212      42.520967    62   252   \n",
      "12  12  0.416952     10      6     534     268      35.975363   254   252   \n",
      "13  13  0.996221     10      8     564     354      17.064487   254   252   \n",
      "14  14  0.576755     10      8     534     354      29.475254   254   252   \n",
      "15  15  0.000002      2      0     138       0  500000.001300   254     0   \n",
      "16  16  0.728252     10      6     534     268      20.597266   254   252   \n",
      "17  17  0.393556     10      8     860    1096      43.195886    62   252   \n",
      "18  18  0.387852     10      6     534     268      38.674545   254   252   \n",
      "19  19  0.537840     10      8     534     354      31.607913   254   252   \n",
      "20  20  0.233720     10      6     534     268      64.179359   254   252   \n",
      "21  21  0.000009      2      0     200       0  111111.107200   254     0   \n",
      "22  22  0.964656     14     12     690     950      25.915974    62   252   \n",
      "23  23  0.000009      2      0     200       0  111111.107200   254     0   \n",
      "24  24  0.921025     10      6     534     268      16.286203   254   252   \n",
      "25  25  0.600982     10      8     534     354      28.287036   254   252   \n",
      "26  26  0.568945     10      6     534     268      26.364588   254   252   \n",
      "27  27  0.497636     10      6    2074     268      30.142514   254   252   \n",
      "28  28  0.000009      2      0     200       0  111111.107200   254     0   \n",
      "29  29  0.000012      2      0    1414       0   83333.330390   254     0   \n",
      "30  30  0.725996     10     16     822   12220      34.435451    62   252   \n",
      "31  31  0.000010      2      0     200       0  100000.002500   254     0   \n",
      "32  32  0.337456     10      8     800    2260      50.376940    62   252   \n",
      "33  33  0.000025      2      0     168       0   40000.001010   254     0   \n",
      "34  34  0.296656     10      6     988     268      50.563614   254   252   \n",
      "35  35  0.647499     14     12    1778    2968      38.610097    62   252   \n",
      "36  36  0.000015      2      0     168       0   66666.668350   254     0   \n",
      "37  37  0.783681     10      8     564     354      21.692501   254   252   \n",
      "38  38  0.354553     10      6    1016     268      42.306790   254   252   \n",
      "39  39  0.288834     10      6     754     268      51.932943   254   252   \n",
      "40  40  0.318127     10      6    3040     268      47.150980   254   252   \n",
      "41  41  0.595373     10     10     842    1454      31.912769    62   252   \n",
      "42  42  0.546425     10      8    1168    1040      31.111315   254   252   \n",
      "43  43  0.000007      2      0     200       0  142857.140900   254     0   \n",
      "44  44  0.542905     10      8     534     354      31.313031   254   252   \n",
      "45  45  0.338017     10      6     998     268      44.376468   254   252   \n",
      "46  46  0.449703     10      6     738     268      33.355347   254   252   \n",
      "47  47  0.274605     10      6    1228     268      54.623913    62   252   \n",
      "\n",
      "           sload  ...  ct_dst_src_ltm  is_ftp_login  ct_ftp_cmd  \\\n",
      "0   1.415894e+04  ...               1             0           0   \n",
      "1   8.395112e+03  ...               2             0           0   \n",
      "2   1.572272e+03  ...               3             0           0   \n",
      "3   2.740179e+03  ...               3             1           1   \n",
      "4   8.561499e+03  ...              40             0           0   \n",
      "5   1.011203e+04  ...              40             0           0   \n",
      "6   6.039783e+03  ...              40             0           0   \n",
      "7   7.377527e+03  ...              40             0           0   \n",
      "8   1.142857e+08  ...               2             0           0   \n",
      "9   1.487512e+04  ...              40             0           0   \n",
      "10  9.964147e+04  ...               3             0           0   \n",
      "11  2.118251e+05  ...               2             0           0   \n",
      "12  9.228880e+03  ...              40             0           0   \n",
      "13  4.079416e+03  ...               3             0           0   \n",
      "14  6.671811e+03  ...              40             0           0   \n",
      "15  2.760000e+08  ...               4             0           0   \n",
      "16  5.283885e+03  ...              40             0           0   \n",
      "17  1.573347e+04  ...               2             0           0   \n",
      "18  9.921310e+03  ...              40             0           0   \n",
      "19  7.154544e+03  ...              40             0           0   \n",
      "20  1.646414e+04  ...              40             0           0   \n",
      "21  8.888889e+07  ...               2             0           0   \n",
      "22  5.315885e+03  ...               2             1           1   \n",
      "23  8.888889e+07  ...               4             0           0   \n",
      "24  4.177954e+03  ...              40             0           0   \n",
      "25  6.402854e+03  ...              40             0           0   \n",
      "26  6.763396e+03  ...              40             0           0   \n",
      "27  3.001391e+04  ...               4             0           0   \n",
      "28  8.888889e+07  ...               2             0           0   \n",
      "29  4.713333e+08  ...               3             0           0   \n",
      "30  8.154315e+03  ...               2             0           0   \n",
      "31  8.000000e+07  ...               4             0           0   \n",
      "32  1.706889e+04  ...               1             0           0   \n",
      "33  2.688000e+07  ...               2             0           0   \n",
      "34  2.400086e+04  ...               1             0           0   \n",
      "35  2.039849e+04  ...               3             0           0   \n",
      "36  4.480000e+07  ...               3             0           0   \n",
      "37  5.185784e+03  ...               2             0           0   \n",
      "38  2.064571e+04  ...               2             0           0   \n",
      "39  1.880665e+04  ...               3             0           0   \n",
      "40  6.880271e+04  ...               1             0           0   \n",
      "41  1.018521e+04  ...               2             0           0   \n",
      "42  1.540193e+04  ...               2             0           0   \n",
      "43  1.142857e+08  ...               2             0           0   \n",
      "44  7.087796e+03  ...              40             0           0   \n",
      "45  2.127704e+04  ...               1             0           0   \n",
      "46  1.183003e+04  ...               3             0           0   \n",
      "47  3.222083e+04  ...               4             0           0   \n",
      "\n",
      "    ct_flw_http_mthd  ct_src_ltm  ct_srv_dst  is_sm_ips_ports  label  source  \\\n",
      "0                  0           1           1                0      0       0   \n",
      "1                  0           1           6                0      0       1   \n",
      "2                  0           2           6                0      0       2   \n",
      "3                  0           2           1                0      0       0   \n",
      "4                  0           2          39                0      0       1   \n",
      "5                  0           2          39                0      0       2   \n",
      "6                  0           1          39                0      0       3   \n",
      "7                  0           3          39                0      0       4   \n",
      "8                  0          27           2                0      1       5   \n",
      "9                  0           3          39                0      0       6   \n",
      "10                 0           1           6                0      0       4   \n",
      "11                 0           1           1                0      0       5   \n",
      "12                 0           1          39                0      0       6   \n",
      "13                 0           2           3                0      0       7   \n",
      "14                 0           1          39                0      0       8   \n",
      "15                 0           2           1                0      0       9   \n",
      "16                 0           2          39                0      0      10   \n",
      "17                 1           1           3                0      0       8   \n",
      "18                 0           2          39                0      0       9   \n",
      "19                 0           2          39                0      0      10   \n",
      "20                 0           2          39                0      0      11   \n",
      "21                 0           1           2                0      1      12   \n",
      "22                 0           2           1                0      0      13   \n",
      "23                 0           2           4                0      1      14   \n",
      "24                 0           2          39                0      0       1   \n",
      "25                 0           2          39                0      0       2   \n",
      "26                 0           1          39                0      0       3   \n",
      "27                 0           1           2                0      0       4   \n",
      "28                 0           2           2                0      1       5   \n",
      "29                 0           2           3                0      0       6   \n",
      "30                 1           2           1                0      0       7   \n",
      "31                 0           2           4                0      1       5   \n",
      "32                 1           1           8                0      0       6   \n",
      "33                 0           1           5                0      0       7   \n",
      "34                 1           1           3                0      0       8   \n",
      "35                 1           1           2                0      0       9   \n",
      "36                 0           1           3                0      0      10   \n",
      "37                 0           1           6                0      0      11   \n",
      "38                 0           1           5                0      0       9   \n",
      "39                 1           1           1                0      0      10   \n",
      "40                 0           1           3                0      0      11   \n",
      "41                 1           1           8                0      0      12   \n",
      "42                 1           1           8                0      0      13   \n",
      "43                 0          27           2                0      1      14   \n",
      "44                 0           3          39                0      0      15   \n",
      "45                 1           2           3                0      0      13   \n",
      "46                 0           1           6                0      0      14   \n",
      "47                 1           1           8                0      0      15   \n",
      "\n",
      "    destination  \n",
      "0             1  \n",
      "1             2  \n",
      "2             3  \n",
      "3             4  \n",
      "4             5  \n",
      "5             6  \n",
      "6             7  \n",
      "7             5  \n",
      "8             6  \n",
      "9             7  \n",
      "10            8  \n",
      "11            9  \n",
      "12           10  \n",
      "13           11  \n",
      "14            9  \n",
      "15           10  \n",
      "16           11  \n",
      "17           12  \n",
      "18           13  \n",
      "19           14  \n",
      "20           15  \n",
      "21           13  \n",
      "22           14  \n",
      "23           15  \n",
      "24            0  \n",
      "25            1  \n",
      "26            2  \n",
      "27            0  \n",
      "28            1  \n",
      "29            2  \n",
      "30            3  \n",
      "31            4  \n",
      "32            5  \n",
      "33            6  \n",
      "34            4  \n",
      "35            5  \n",
      "36            6  \n",
      "37            7  \n",
      "38            8  \n",
      "39            9  \n",
      "40           10  \n",
      "41            8  \n",
      "42            9  \n",
      "43           10  \n",
      "44           11  \n",
      "45           12  \n",
      "46           13  \n",
      "47           14  \n",
      "\n",
      "[48 rows x 43 columns]\n"
     ]
    }
   ],
   "source": [
    "# load\n",
    "df = pd.read_csv('customdata/finaldata.csv')\n",
    "print(df)"
   ]
  },
  {
   "cell_type": "code",
   "execution_count": 37,
   "metadata": {},
   "outputs": [
    {
     "name": "stdout",
     "output_type": "stream",
     "text": [
      "(48,)\n"
     ]
    }
   ],
   "source": [
    "# insert into graph with pyg\n",
    "# check shape of 'source' col\n",
    "print(df['source'].shape)\n",
    "\n",
    "# save it into an array with 1, 48 shape\n",
    "# ok even though it does not have a second dimension, its fine leave it\n",
    "# you just set it to have a second dimension and then the edge_index had three dimensions which is wrong so leave this\n",
    "# code commented as what went wrong\n",
    "# sources = df['source'].values.reshape(1, -1)\n",
    "# print(sources.shape)\n",
    "\n",
    "\n",
    "# need to make into a list i think, cannot do (, -1)\n",
    "# ok yea just tested, need to be list to keep it the edge_index as two dimensions\n",
    "# no that really made me want to die for a second\n",
    "sources = df['source'].values.tolist()\n",
    "destinations = df['destination'].values.tolist() "
   ]
  },
  {
   "cell_type": "code",
   "execution_count": 38,
   "metadata": {},
   "outputs": [],
   "source": [
    "# make graph\n",
    "edge_index = torch.tensor([sources, destinations], dtype=torch.long)"
   ]
  },
  {
   "cell_type": "code",
   "execution_count": 42,
   "metadata": {},
   "outputs": [
    {
     "name": "stdout",
     "output_type": "stream",
     "text": [
      "Data(edge_index=[2, 48])\n"
     ]
    },
    {
     "data": {
      "image/png": "[encoded data removed]",
      "text/plain": [
       "<Figure size 500x500 with 1 Axes>"
      ]
     },
     "metadata": {},
     "output_type": "display_data"
    }
   ],
   "source": [
    "# display graph as image\n",
    "\n",
    "data = Data(edge_index=edge_index)\n",
    "print(data)\n",
    "\n",
    "plt.figure(figsize=(5, 5))\n",
    "nxg = to_networkx(data)\n",
    "pos = nx.spring_layout(nxg)\n",
    "nx.draw(nxg, pos, with_labels=True)\n",
    "plt.show()"
   ]
  },
  {
   "cell_type": "code",
   "execution_count": null,
   "metadata": {},
   "outputs": [],
   "source": [
    "# set features for all nodes, should be all columns except source, destination, and id\n",
    " \n",
    "df = df.drop(['source', 'destination', 'id'], axis=1)"
   ]
  },
  {
   "cell_type": "code",
   "execution_count": 49,
   "metadata": {},
   "outputs": [
    {
     "name": "stdout",
     "output_type": "stream",
     "text": [
      "Index(['dur', 'spkts', 'dpkts', 'sbytes', 'dbytes', 'rate', 'sttl', 'dttl',\n",
      "       'sload', 'dload', 'sloss', 'dloss', 'sinpkt', 'dinpkt', 'sjit', 'djit',\n",
      "       'swin', 'stcpb', 'dtcpb', 'dwin', 'tcprtt', 'synack', 'ackdat', 'smean',\n",
      "       'dmean', 'trans_depth', 'response_body_len', 'ct_srv_src',\n",
      "       'ct_state_ttl', 'ct_dst_ltm', 'ct_src_dport_ltm', 'ct_dst_sport_ltm',\n",
      "       'ct_dst_src_ltm', 'is_ftp_login', 'ct_ftp_cmd', 'ct_flw_http_mthd',\n",
      "       'ct_src_ltm', 'ct_srv_dst', 'is_sm_ips_ports', 'label'],\n",
      "      dtype='object')\n",
      "(40,)\n"
     ]
    }
   ],
   "source": [
    "print(df.columns)\n",
    "print(df.columns.shape)"
   ]
  },
  {
   "cell_type": "code",
   "execution_count": 48,
   "metadata": {},
   "outputs": [
    {
     "name": "stdout",
     "output_type": "stream",
     "text": [
      "tensor([[ 0.1215,  6.0000,  4.0000,  ...,  1.0000,  0.0000,  0.0000],\n",
      "        [ 0.6499, 14.0000, 38.0000,  ...,  6.0000,  0.0000,  0.0000],\n",
      "        [ 1.6231,  8.0000, 16.0000,  ...,  6.0000,  0.0000,  0.0000],\n",
      "        ...,\n",
      "        [ 0.3380, 10.0000,  6.0000,  ...,  3.0000,  0.0000,  0.0000],\n",
      "        [ 0.4497, 10.0000,  6.0000,  ...,  6.0000,  0.0000,  0.0000],\n",
      "        [ 0.2746, 10.0000,  6.0000,  ...,  8.0000,  0.0000,  0.0000]])\n",
      "40\n"
     ]
    }
   ],
   "source": [
    "# set features for all nodes\n",
    "x = torch.tensor(df.values, dtype=torch.float)\n",
    "data = (Data(x=x, edge_index=edge_index))\n",
    "print(data['x'])\n",
    "print(data.num_node_features)\n",
    "print(data.num_classes)"
   ]
  },
  {
   "cell_type": "markdown",
   "metadata": {},
   "source": [
    "ok i think thats all? for loading into the graph, can gnn now?"
   ]
  },
  {
   "cell_type": "code",
   "execution_count": null,
   "metadata": {},
   "outputs": [],
   "source": [
    "class GCN(torch.nn.Module):\n",
    "    def __init__(self, input_dim, hidden_dim, output_dim):\n",
    "        super(GCN, self).__init__()\n",
    "        self.conv1 = GCNConv(data.num_node_features, hidden_dim)\n",
    "        self.conv2 = GCNConv(hidden_dim, output_dim)\n",
    "    \n",
    "    def forward(self, data):\n",
    "        x, edge_index = data.x, data.edge_index\n",
    "        x = self.conv1(x, edge_index)\n",
    "        x = torch.relu(x)\n",
    "        x = self.conv2(x, edge_index)\n",
    "        return torch.nn.functional.log_softmax(x, dim=1)\n",
    "\n",
    "# Training parameters\n",
    "input_dim = df.num_features\n",
    "hidden_dim = 64\n",
    "output_dim = 2  # Binary classification (0 or 1)\n",
    "learning_rate = 0.01\n",
    "epochs = 100\n",
    "\n",
    "# Initialize model, optimizer and loss function\n",
    "model = GCN(input_dim, hidden_dim, output_dim)\n",
    "optimizer = torch.optim.Adam(model.parameters(), lr=learning_rate)\n",
    "loss_fn = torch.nn.CrossEntropyLoss()\n",
    "\n",
    "# Step 5: Training loop\n",
    "for epoch in range(epochs):\n",
    "    model.train()\n",
    "    optimizer.zero_grad()\n",
    "    out = model(train_data)\n",
    "    loss = loss_fn(out, train_data.y)\n",
    "    loss.backward()\n",
    "    optimizer.step()\n",
    "    print(f'Epoch {epoch+1}/{epochs}, Loss: {loss.item()}')\n",
    "\n",
    "# Step 6: Evaluation\n",
    "model.eval()\n",
    "_, pred = model(test_data).max(dim=1)\n",
    "correct = float(pred.eq(test_data.y).sum().item())\n",
    "accuracy = correct / test_data.num_nodes\n",
    "print(f'Accuracy: {accuracy:.4f}')    "
   ]
  }
 ],
 "metadata": {
  "kernelspec": {
   "display_name": "pytorchpractice",
   "language": "python",
   "name": "python3"
  },
  "language_info": {
   "codemirror_mode": {
    "name": "ipython",
    "version": 3
   },
   "file_extension": ".py",
   "mimetype": "text/x-python",
   "name": "python",
   "nbconvert_exporter": "python",
   "pygments_lexer": "ipython3",
   "version": "3.9.19"
  }
 },
 "nbformat": 4,
 "nbformat_minor": 2
}
